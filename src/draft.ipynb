{
 "cells": [
  {
   "cell_type": "code",
   "execution_count": 1,
   "metadata": {},
   "outputs": [],
   "source": [
    "import pandas as pd\n",
    "\n",
    "# add ignore warnings\n",
    "import warnings\n",
    "warnings.filterwarnings(\"ignore\")"
   ]
  },
  {
   "cell_type": "code",
   "execution_count": 2,
   "metadata": {},
   "outputs": [],
   "source": [
    "myTeamName = \"Team 7\""
   ]
  },
  {
   "cell_type": "code",
   "execution_count": 3,
   "metadata": {},
   "outputs": [],
   "source": [
    "numTeams = 8\n",
    "numPlayersPerTeam = 13\n",
    "ROTO8_DRAFT_ORDER = [\"Team 1\", \"Team 2\", \"Team 3\", \"Team 4\", \"Team 5\", \"Team 6\", \"Team 7\", \"Team 8\"]\n",
    "SUMMARY_STATS = [\"PTS\", \"REB\", \"AST\", \"ST\", \"BLK\", \"TO\", \"3PTM\"]\n",
    "AVERAGE_STATS = [\"FG%\", \"FT%\"]"
   ]
  },
  {
   "cell_type": "code",
   "execution_count": 4,
   "metadata": {},
   "outputs": [],
   "source": [
    "dataDir                                 =   \"../data/\"   \n",
    "playerProjStatsFilepath                   =   dataDir + \"proj_24_25_150_players.csv\""
   ]
  },
  {
   "cell_type": "code",
   "execution_count": 5,
   "metadata": {},
   "outputs": [],
   "source": [
    "stats_categories                        =   SUMMARY_STATS   +   AVERAGE_STATS\n",
    "relevantColumns                         =   [\"Player\"]      +   stats_categories\n",
    "draft_columns                           =   [\"Team\"]        +   relevantColumns"
   ]
  },
  {
   "cell_type": "code",
   "execution_count": 6,
   "metadata": {},
   "outputs": [],
   "source": [
    "def loadPlayerProjStats(playerProjStatsFilepath):       \n",
    "    print(\"loadPlayerProjStats\")\n",
    "    print(\"Loading player stats from: \", playerProjStatsFilepath)\n",
    "\n",
    "    dfPlayerProjStats                   =   pd.read_csv(playerProjStatsFilepath)\n",
    "    dfPlayerProjStats                   =   dfPlayerProjStats[relevantColumns]\n",
    "    dfPlayerProjStats                   =   dfPlayerProjStats.astype({\"PTS\": float, \"REB\": float, \"AST\": float, \"ST\": float, \"BLK\": float, \\\n",
    "                                                                      \"TO\": float, \"FG%\": float, \"FT%\": float, \"3PTM\": float})\n",
    "\n",
    "    return  dfPlayerProjStats"
   ]
  },
  {
   "cell_type": "code",
   "execution_count": 7,
   "metadata": {},
   "outputs": [],
   "source": [
    "def updateDraft(dfDraft, teamName, dfPlayerProjStats, playerIndex):\n",
    "    player                          =   dfPlayerProjStats.iloc[playerIndex]\n",
    "    \n",
    "    # create new dataframe with draft_columns. add a single row with the player's stats and the team name\n",
    "    dfPlayer                       =   pd.DataFrame(columns=draft_columns)\n",
    "    dfPlayer.loc[0]                =   [teamName] + player.tolist()\n",
    "\n",
    "    dfDraft                         =   pd.concat([dfDraft, dfPlayer], ignore_index=True)\n",
    "    return dfDraft"
   ]
  },
  {
   "cell_type": "code",
   "execution_count": 8,
   "metadata": {},
   "outputs": [],
   "source": [
    "def getTeamDraft(dfDraft, teamName):\n",
    "\n",
    "    dfTeamDraft                =   dfDraft[dfDraft[\"Team\"] == teamName]\n",
    "\n",
    "    #print(\"Team Draft for \", teamName)\n",
    "    #print(dfTeamDraft)\n",
    "\n",
    "    return dfTeamDraft"
   ]
  },
  {
   "cell_type": "code",
   "execution_count": 9,
   "metadata": {},
   "outputs": [],
   "source": [
    "def getTeamDraftStats(dfDraft, teamName):\n",
    "    dfTeamDraft = getTeamDraft(dfDraft, teamName)\n",
    "\n",
    "    # create a new dataframe with the relevant columns and sum the stats\n",
    "    dfTeamDraftStats                    =   pd.DataFrame(columns= [\"Team\"] + relevantColumns)\n",
    "\n",
    "    statsRow                           =   {'Team': teamName, \\\n",
    "                                            'Player': dfTeamDraft['Player'].sum(),\n",
    "                                            'PTS': dfTeamDraft['PTS'].sum(), \\\n",
    "                                            'REB': dfTeamDraft['REB'].sum(), \\\n",
    "                                            'AST': dfTeamDraft['AST'].sum(), \\\n",
    "                                            'ST': dfTeamDraft['ST'].sum(), \\\n",
    "                                            'BLK': dfTeamDraft['BLK'].sum(), \\\n",
    "                                            'TO': dfTeamDraft['TO'].sum(), \\\n",
    "                                            '3PTM': dfTeamDraft['3PTM'].sum(), \\\n",
    "                                            'FG%': dfTeamDraft['FG%'].mean(), \\\n",
    "                                            'FT%': dfTeamDraft['FT%'].mean()}\n",
    "    dfTeamDraftStats.loc[0]             =   statsRow\n",
    "    \n",
    "    #print(\"Team Draft Stats for: \", teamName)\n",
    "    #print(dfTeamDraftStats)\n",
    "\n",
    "    return dfTeamDraftStats\n"
   ]
  },
  {
   "cell_type": "code",
   "execution_count": 10,
   "metadata": {},
   "outputs": [],
   "source": [
    "def getAllTeamsDraftStats(dfDraft):\n",
    "    dfTeamStats =     pd.DataFrame(columns= [\"Team\"] + relevantColumns)\n",
    "    \n",
    "    for teamName in ROTO8_DRAFT_ORDER:\n",
    "        dfTeamStats   =    pd.concat([dfTeamStats, getTeamDraftStats(dfDraft, teamName)], ignore_index=True)\n",
    "\n",
    "    return dfTeamStats"
   ]
  },
  {
   "cell_type": "code",
   "execution_count": 11,
   "metadata": {},
   "outputs": [],
   "source": [
    "def noramlizeTeamsDraftStats(dfAllTeamsDraftStats, teamPlayerCountDct, dfDraft):\n",
    "\n",
    "    # find the maximum number of players selected by each team\n",
    "    maxPlayerCount = max(teamPlayerCountDct.values())    \n",
    "\n",
    "    # create a new dataframe with the relevant columns and sum the stats\n",
    "    dfNormalizedTeamStats                    =   pd.DataFrame(columns= [\"Team\"] + relevantColumns)\n",
    "\n",
    "\n",
    "\n",
    "    for i, teamName in enumerate(ROTO8_DRAFT_ORDER):\n",
    "\n",
    "        # check if the team has selected any players\n",
    "        if teamPlayerCountDct[teamName] == 0:\n",
    "            continue\n",
    "\n",
    "        # check if the team has selected the maximum number of players\n",
    "        if teamPlayerCountDct[teamName] == maxPlayerCount:\n",
    "            dfNormalizedTeamStats.loc[i] = dfAllTeamsDraftStats.loc[i]\n",
    "            continue\n",
    "\n",
    "        # Check if the team has selected less than the maximum number of players\n",
    "\n",
    "        currTeamPlayerCount = teamPlayerCountDct[teamName]\n",
    "\n",
    "        factor = maxPlayerCount/currTeamPlayerCount\n",
    "\n",
    "\n",
    "\n",
    "        # find the stats for the team and divide by the number of players selected\n",
    "\n",
    "        dfTeamDraftStats = getTeamDraftStats(dfDraft, teamName)\n",
    "\n",
    "        #print(\"Team Draft Stats for: \", teamName)\n",
    "        #print(dfTeamDraftStats)\n",
    "\n",
    "        statsRow                           =  {'Team': teamName, \\\n",
    "                                            'Player': dfTeamDraftStats['Player'].values[0], \\\n",
    "                                            'PTS': float(int(dfTeamDraftStats['PTS'].values[0]*factor)), \\\n",
    "                                            'REB': float(int(dfTeamDraftStats['REB'].values[0]*factor)), \\\n",
    "                                            'AST': float(int(dfTeamDraftStats['AST'].values[0]*factor)), \\\n",
    "                                            'ST': float(int(dfTeamDraftStats['ST'].values[0]*factor)), \\\n",
    "                                            'BLK': float(int(dfTeamDraftStats['BLK'].values[0]*factor)), \\\n",
    "                                            'TO': float(int(dfTeamDraftStats['TO'].values[0]*factor)), \\\n",
    "                                            '3PTM': float(int(dfTeamDraftStats['3PTM'].values[0]*factor)), \\\n",
    "                                            'FG%': dfTeamDraftStats['FG%'].values[0], \\\n",
    "                                            'FT%': dfTeamDraftStats['FT%'].values[0]}\n",
    "        \n",
    "\n",
    "\n",
    "\n",
    "        dfNormalizedTeamStats.loc[i]             =   statsRow\n",
    "\n",
    "    return dfNormalizedTeamStats"
   ]
  },
  {
   "cell_type": "code",
   "execution_count": 12,
   "metadata": {},
   "outputs": [],
   "source": [
    "def getTeamRankings(dfTeamStats, myTeamName):\n",
    "    # create ranking dataframe, sort by each category separately (PTS\tREB\tAST\tST\tBLK\tTO\tFG%\tFT%\t3PTM) and assign ranks. \n",
    "    \n",
    "    dfRankings = pd.DataFrame(columns=[\"Team\"])\n",
    "    # add the team names to the rankings dataframe as new rows\n",
    "    dfRankings[\"Team\"] = dfTeamStats[\"Team\"]\n",
    "\n",
    "\n",
    "    for category in relevantColumns:\n",
    "        # print(\"Category: \", category)\n",
    "\n",
    "        # keep only the category column and the Team column and sort by that category column\n",
    "        dfCategory = dfTeamStats[[\"Team\", category]].sort_values(by=category, ascending=True)\n",
    "\n",
    "        # assign ranks\n",
    "        dfCategory[\"Rank_\" + category] = range(1, numTeams+1)\n",
    "\n",
    "        # merge the ranks with the rankings dataframe\n",
    "        dfRankings = pd.merge(dfRankings, dfCategory, on=\"Team\")\n",
    "\n",
    "    # calculate the total score for each team\n",
    "    dfRankings[\"Total Score\"] = dfRankings.filter(like=\"Rank\").sum(axis=1)\n",
    "\n",
    "    # sort by total score\n",
    "    dfRankings = dfRankings.sort_values(by=\"Total Score\", ascending=False)\n",
    "\n",
    "    # find the row index of my team\n",
    "    myTeamData = dfRankings[dfRankings[\"Team\"] == myTeamName]\n",
    "\n",
    "    # move my team to the top\n",
    "    dfRankings = pd.concat([myTeamData, dfRankings[dfRankings[\"Team\"] != myTeamName]])\n",
    "    \n",
    "    \n",
    "\n",
    "    return dfRankings"
   ]
  },
  {
   "cell_type": "code",
   "execution_count": 13,
   "metadata": {},
   "outputs": [],
   "source": [
    "def evaluateSelection(dfDraft, dfPlayerProjStats, myTeamName, playerIndex):\n",
    "    # update the draft dataframe with the new player\n",
    "    dfDraft = updateDraft(dfDraft, myTeamName, dfPlayerProjStats, playerIndex)\n",
    "    # calculate the total score for each team\n",
    "    dfTeamStats = getAllTeamsDraftStats(dfDraft)\n",
    "    dfRankings = getTeamRankings(dfTeamStats, myTeamName)   \n",
    "    return dfRankings"
   ]
  },
  {
   "cell_type": "code",
   "execution_count": 14,
   "metadata": {},
   "outputs": [],
   "source": [
    "def evaluateSelections(dfDraft, dfPlayerProjStats, myTeamName, playerIndexLst):   \n",
    "    dctSelectionsRankings = {}       \n",
    "    for playerIndex in playerIndexLst:\n",
    "        dfRankings = evaluateSelection(dfDraft, dfPlayerProjStats, myTeamName, playerIndex)\n",
    "        #print(\"Player Index: \", playerIndex)\n",
    "        #print(dfRankings)\n",
    "        #print(\"\\n\\n\")\n",
    "\n",
    "        dctSelectionsRankings[playerIndex] = dfRankings\n",
    "\n",
    "    return dctSelectionsRankings"
   ]
  },
  {
   "cell_type": "code",
   "execution_count": 15,
   "metadata": {},
   "outputs": [],
   "source": [
    "def getMyTeamRankings(playerIndexLst, dfDraft, dfPlayerProjStats, myTeamName, dfRankings):\n",
    "    dctSelectionsRankings                           =   evaluateSelections(dfDraft, dfPlayerProjStats, myTeamName, playerIndexLst)\n",
    "\n",
    "    dfMyTeamRankings                                =   pd.DataFrame(columns=dctSelectionsRankings[playerIndexLst[0]].columns)\n",
    "                                        \n",
    "    # iterate over the dictionary and print the rankings for each player selection\n",
    "    for playerIndex in playerIndexLst:\n",
    "        #print(\"Player Index: \", playerIndex)\n",
    "        currSelectionRank                 =   dctSelectionsRankings[playerIndex]\n",
    "\n",
    "        myTeamData = currSelectionRank[currSelectionRank[\"Team\"] == myTeamName]\n",
    "\n",
    "        myTeamData[\"Player\"] = dfPlayerProjStats.iloc[playerIndex][\"Player\"]\n",
    "        \n",
    "        dfMyTeamRankings = pd.concat([dfMyTeamRankings, myTeamData])\n",
    "\n",
    "    # sort by total score\n",
    "    dfMyTeamRankings = dfMyTeamRankings.sort_values(by=\"Total Score\", ascending=False)\n",
    "\n",
    "    # get my current team ranking from dfRankings\n",
    "    myTeamRank = dfRankings[dfRankings[\"Team\"] == myTeamName]\n",
    "\n",
    "\n",
    "    dfMyTeamRankings = pd.concat([myTeamRank ,dfMyTeamRankings])\n",
    "\n",
    "    dfMyTeamRankings\n",
    "\n",
    "    return dfMyTeamRankings\n"
   ]
  },
  {
   "cell_type": "markdown",
   "metadata": {},
   "source": [
    "# Draft"
   ]
  },
  {
   "cell_type": "code",
   "execution_count": null,
   "metadata": {},
   "outputs": [],
   "source": [
    "dfPlayerProjStats                       =   loadPlayerProjStats(playerProjStatsFilepath)\n",
    "dfPlayerProjStats.head()"
   ]
  },
  {
   "cell_type": "code",
   "execution_count": null,
   "metadata": {},
   "outputs": [],
   "source": [
    "dfDraft                             =   pd.DataFrame(columns=draft_columns)   \n",
    "\n",
    "# create a list of number of players selected per team. initialize to 0 for all teams\n",
    "teamPlayerCountDct                  = {}\n",
    "\n",
    "for team in ROTO8_DRAFT_ORDER:\n",
    "    teamPlayerCountDct[team]        = 0\n",
    "\n",
    "stopIndex = 51 # numPlayersPerTeam*numTeams\n",
    "\n",
    "index = 0\n",
    "for choise in range(0, numPlayersPerTeam):    \n",
    "    for i, team in enumerate(ROTO8_DRAFT_ORDER):\n",
    "        if index >= stopIndex:\n",
    "            break\n",
    "\n",
    "        dfDraft                         =   updateDraft(dfDraft, team, dfPlayerProjStats, index)\n",
    "        teamPlayerCountDct[team]        +=  1\n",
    "        index                           +=  1\n",
    "\n",
    "dfDraft# , teamPlayerCountDct"
   ]
  },
  {
   "cell_type": "code",
   "execution_count": null,
   "metadata": {},
   "outputs": [],
   "source": [
    "dfAllTeamsDraftStats                                 =   getAllTeamsDraftStats(dfDraft)\n",
    "dfAllTeamsDraftStats"
   ]
  },
  {
   "cell_type": "code",
   "execution_count": null,
   "metadata": {},
   "outputs": [],
   "source": [
    "#test\n",
    "if False:\n",
    "    teamPlayerCountDct['Team 5'] = 12\n",
    "    teamPlayerCountDct['Team 6'] = 12\n",
    "    teamPlayerCountDct['Team 7'] = 12\n",
    "    teamPlayerCountDct['Team 8'] = 12\n",
    "\n",
    "teamPlayerCountDct"
   ]
  },
  {
   "cell_type": "code",
   "execution_count": null,
   "metadata": {},
   "outputs": [],
   "source": [
    "dfNormAllTeamsDraftStats                            =   noramlizeTeamsDraftStats(dfAllTeamsDraftStats, teamPlayerCountDct, dfDraft)\n",
    "dfNormAllTeamsDraftStats"
   ]
  },
  {
   "cell_type": "code",
   "execution_count": null,
   "metadata": {},
   "outputs": [],
   "source": [
    "dfAllTeamsDraftStats"
   ]
  },
  {
   "cell_type": "code",
   "execution_count": null,
   "metadata": {},
   "outputs": [],
   "source": [
    "dfRankings = getTeamRankings(dfAllTeamsDraftStats,myTeamName)\n",
    "dfRankings"
   ]
  },
  {
   "cell_type": "code",
   "execution_count": null,
   "metadata": {},
   "outputs": [],
   "source": [
    "dfNormRankings = getTeamRankings(dfNormAllTeamsDraftStats,myTeamName)\n",
    "dfNormRankings"
   ]
  },
  {
   "cell_type": "code",
   "execution_count": null,
   "metadata": {},
   "outputs": [],
   "source": [
    "dfNormAllTeamsDraftStats"
   ]
  },
  {
   "cell_type": "code",
   "execution_count": null,
   "metadata": {},
   "outputs": [],
   "source": [
    "playerIndexLst                                  =   [10, 20, 30]\n",
    "dfMyTeamRankings                                =   getMyTeamRankings(playerIndexLst, dfDraft, dfPlayerProjStats, myTeamName, dfRankings)\n",
    "dfMyTeamRankings"
   ]
  }
 ],
 "metadata": {
  "kernelspec": {
   "display_name": "Python 3",
   "language": "python",
   "name": "python3"
  },
  "language_info": {
   "codemirror_mode": {
    "name": "ipython",
    "version": 3
   },
   "file_extension": ".py",
   "mimetype": "text/x-python",
   "name": "python",
   "nbconvert_exporter": "python",
   "pygments_lexer": "ipython3",
   "version": "3.12.3"
  }
 },
 "nbformat": 4,
 "nbformat_minor": 2
}
